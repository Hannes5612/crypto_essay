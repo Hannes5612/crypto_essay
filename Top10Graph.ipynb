{
 "cells": [
  {
   "cell_type": "markdown",
   "metadata": {},
   "source": [
    "Top 10 Currencies by Market Cap. As of 01.06.2021 - 21:21 "
   ]
  },
  {
   "cell_type": "code",
   "execution_count": 49,
   "metadata": {},
   "outputs": [
    {
     "data": {
      "text/html": [
       "<div>\n",
       "<style scoped>\n",
       "    .dataframe tbody tr th:only-of-type {\n",
       "        vertical-align: middle;\n",
       "    }\n",
       "\n",
       "    .dataframe tbody tr th {\n",
       "        vertical-align: top;\n",
       "    }\n",
       "\n",
       "    .dataframe thead th {\n",
       "        text-align: right;\n",
       "    }\n",
       "</style>\n",
       "<table border=\"1\" class=\"dataframe\">\n",
       "  <thead>\n",
       "    <tr style=\"text-align: right;\">\n",
       "      <th></th>\n",
       "      <th>Marktkapitalisierung</th>\n",
       "    </tr>\n",
       "    <tr>\n",
       "      <th>Kryptowährung</th>\n",
       "      <th></th>\n",
       "    </tr>\n",
       "  </thead>\n",
       "  <tbody>\n",
       "    <tr>\n",
       "      <th>Bitcoin</th>\n",
       "      <td>552665314535</td>\n",
       "    </tr>\n",
       "    <tr>\n",
       "      <th>Ethereum</th>\n",
       "      <td>243729999058</td>\n",
       "    </tr>\n",
       "    <tr>\n",
       "      <th>Tether</th>\n",
       "      <td>50567518392</td>\n",
       "    </tr>\n",
       "    <tr>\n",
       "      <th>Cardano</th>\n",
       "      <td>45173647551</td>\n",
       "    </tr>\n",
       "    <tr>\n",
       "      <th>Binance Coin</th>\n",
       "      <td>44150653000</td>\n",
       "    </tr>\n",
       "    <tr>\n",
       "      <th>Ripple</th>\n",
       "      <td>37679911038</td>\n",
       "    </tr>\n",
       "    <tr>\n",
       "      <th>Dogecoin</th>\n",
       "      <td>36096511084</td>\n",
       "    </tr>\n",
       "    <tr>\n",
       "      <th>USD Coin</th>\n",
       "      <td>18560259199</td>\n",
       "    </tr>\n",
       "    <tr>\n",
       "      <th>Polkadot</th>\n",
       "      <td>17182134186</td>\n",
       "    </tr>\n",
       "    <tr>\n",
       "      <th>Uniswap</th>\n",
       "      <td>12316087394</td>\n",
       "    </tr>\n",
       "  </tbody>\n",
       "</table>\n",
       "</div>"
      ],
      "text/plain": [
       "                Marktkapitalisierung\n",
       "Kryptowährung                       \n",
       "Bitcoin                 552665314535\n",
       "Ethereum                243729999058\n",
       "Tether                   50567518392\n",
       "Cardano                  45173647551\n",
       "Binance Coin             44150653000\n",
       "Ripple                   37679911038\n",
       "Dogecoin                 36096511084\n",
       "USD Coin                 18560259199\n",
       "Polkadot                 17182134186\n",
       "Uniswap                  12316087394"
      ]
     },
     "execution_count": 49,
     "metadata": {},
     "output_type": "execute_result"
    }
   ],
   "source": [
    "import pandas as pd\n",
    "import matplotlib.pyplot as plt\n",
    "\n",
    "coins = pd.read_csv('Top10Coins.csv').set_index('Kryptowährung')\n",
    "coins"
   ]
  },
  {
   "cell_type": "code",
   "execution_count": 75,
   "metadata": {},
   "outputs": [
    {
     "data": {
      "image/png": "[encoded data removed]",
      "text/plain": [
       "<Figure size 504x216 with 1 Axes>"
      ]
     },
     "metadata": {
      "needs_background": "light"
     },
     "output_type": "display_data"
    }
   ],
   "source": [
    "ax = coins.plot(kind='barh', use_index=True, legend=False, figsize=(7,3), sort_columns=False)\n",
    "plt.gcf().subplots_adjust(bottom=0.15, left=0.2)\n",
    "ax.set_xlabel('Marktkaitalisierung in 100 Milliarden Euro')\n",
    "plt.savefig('./images/marketcap.pdf')"
   ]
  },
  {
   "cell_type": "code",
   "execution_count": null,
   "metadata": {},
   "outputs": [],
   "source": []
  }
 ],
 "metadata": {
  "kernelspec": {
   "display_name": "Python 3",
   "language": "python",
   "name": "python3"
  },
  "language_info": {
   "codemirror_mode": {
    "name": "ipython",
    "version": 3
   },
   "file_extension": ".py",
   "mimetype": "text/x-python",
   "name": "python",
   "nbconvert_exporter": "python",
   "pygments_lexer": "ipython3",
   "version": "3.8.3"
  }
 },
 "nbformat": 4,
 "nbformat_minor": 4
}
